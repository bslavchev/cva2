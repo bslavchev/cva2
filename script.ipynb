{
 "cells": [
  {
   "cell_type": "code",
   "execution_count": 1,
   "metadata": {},
   "outputs": [
    {
     "name": "stderr",
     "output_type": "stream",
     "text": [
      "Using TensorFlow backend.\n"
     ]
    }
   ],
   "source": [
    "import pandas as pd\n",
    "import numpy as np\n",
    "from keras.preprocessing.image import ImageDataGenerator\n",
    "from keras.models import Sequential\n",
    "from keras.layers import Conv2D, MaxPooling2D, Input\n",
    "from keras.layers import Activation, Dropout, Flatten, Dense\n",
    "from keras.utils import to_categorical\n",
    "import keras"
   ]
  },
  {
   "cell_type": "code",
   "execution_count": 2,
   "metadata": {},
   "outputs": [
    {
     "name": "stdout",
     "output_type": "stream",
     "text": [
      "[[1. 0. 0. ... 0. 0. 0.]\n",
      " [1. 0. 0. ... 0. 0. 0.]\n",
      " [0. 0. 1. ... 0. 0. 0.]\n",
      " ...\n",
      " [0. 0. 0. ... 1. 0. 0.]\n",
      " [0. 0. 0. ... 0. 0. 1.]\n",
      " [1. 0. 0. ... 0. 0. 0.]]\n"
     ]
    }
   ],
   "source": [
    "#Data corresponds to an emotion tag, a 48x48 greyscale picture flattened, and a tag indicating if the image belongs to the test set or the training set.\n",
    "df = pd.read_csv('./data/fer2013.csv')\n",
    "\n",
    "train = df[df['Usage']=='Training']\n",
    "test = df[df['Usage']=='PublicTest']\n",
    "\n",
    "#TODO: We might want to augment data with ImageDataGenerator \n",
    "\n",
    "#TODO: We might want to do some image pre-processing\n",
    "\n",
    "\n",
    "#Splits data in training and testing, as well as formatting data to right input and output shapes\n",
    "\n",
    "X_train = np.array(train.pixels.apply(lambda x: np.array(x.split(' ')).reshape(48, 48,1).astype('float32')))\n",
    "X_test = np.array(test.pixels.apply(lambda x: np.array(x.split(' ')).reshape(48, 48,1).astype('float32')))\n",
    "\n",
    "#Turn the array of 3D arrays into a 4D array\n",
    "X_train = np.stack(X_train, axis=0)\n",
    "X_test = np.stack(X_test, axis=0)\n",
    "\n",
    "y_train = to_categorical(train['emotion'])\n",
    "y_test =  to_categorical(test['emotion'])\n",
    "\n",
    "#Splits off a validation set\n",
    "X_val = X_train[-4000:]\n",
    "y_val = y_train[-4000:]\n",
    "X_train = X_train[:-4000]\n",
    "y_train = y_train[:-4000]\n",
    "\n",
    "print(y_train)"
   ]
  },
  {
   "cell_type": "code",
   "execution_count": 3,
   "metadata": {},
   "outputs": [
    {
     "name": "stdout",
     "output_type": "stream",
     "text": [
      "(48, 48, 1)\n",
      "7\n"
     ]
    }
   ],
   "source": [
    "#Define dimensions of input and output layers\n",
    "D_in = X_train[0].shape\n",
    "D_out = tuple(y_train[0].shape)\n",
    "print(D_in)\n",
    "print(D_out[0])\n",
    "\n",
    "#Sets up model. To Bobby: Can we make this smarter so you and I can do different models?\n",
    "model = Sequential()\n",
    "\n",
    "model.add(Conv2D(32, (3, 3), input_shape=(tuple(D_in))))\n",
    "model.add(Activation('relu'))\n",
    "model.add(MaxPooling2D(pool_size=(2, 2)))\n",
    "\n",
    "model.add(Conv2D(32, (3, 3)))\n",
    "model.add(Activation('relu'))\n",
    "model.add(MaxPooling2D(pool_size=(2, 2)))\n",
    "\n",
    "model.add(Conv2D(64, (3, 3)))\n",
    "model.add(Activation('relu'))\n",
    "model.add(MaxPooling2D(pool_size=(2, 2)))\n",
    "\n",
    "model.add(Flatten())\n",
    "\n",
    "model.add(Dense(D_out[0], activation='softmax'))\n",
    "model.compile(loss='categorical_crossentropy', optimizer='adam', metrics=['accuracy'])\n",
    "\n",
    "#TODO: Train networks, evaluate results."
   ]
  },
  {
   "cell_type": "code",
   "execution_count": 4,
   "metadata": {},
   "outputs": [
    {
     "name": "stdout",
     "output_type": "stream",
     "text": [
      "Model: \"sequential_1\"\n",
      "_________________________________________________________________\n",
      "Layer (type)                 Output Shape              Param #   \n",
      "=================================================================\n",
      "conv2d_1 (Conv2D)            (None, 46, 46, 32)        320       \n",
      "_________________________________________________________________\n",
      "activation_1 (Activation)    (None, 46, 46, 32)        0         \n",
      "_________________________________________________________________\n",
      "max_pooling2d_1 (MaxPooling2 (None, 23, 23, 32)        0         \n",
      "_________________________________________________________________\n",
      "conv2d_2 (Conv2D)            (None, 21, 21, 32)        9248      \n",
      "_________________________________________________________________\n",
      "activation_2 (Activation)    (None, 21, 21, 32)        0         \n",
      "_________________________________________________________________\n",
      "max_pooling2d_2 (MaxPooling2 (None, 10, 10, 32)        0         \n",
      "_________________________________________________________________\n",
      "conv2d_3 (Conv2D)            (None, 8, 8, 64)          18496     \n",
      "_________________________________________________________________\n",
      "activation_3 (Activation)    (None, 8, 8, 64)          0         \n",
      "_________________________________________________________________\n",
      "max_pooling2d_3 (MaxPooling2 (None, 4, 4, 64)          0         \n",
      "_________________________________________________________________\n",
      "flatten_1 (Flatten)          (None, 1024)              0         \n",
      "_________________________________________________________________\n",
      "dense_1 (Dense)              (None, 7)                 7175      \n",
      "=================================================================\n",
      "Total params: 35,239\n",
      "Trainable params: 35,239\n",
      "Non-trainable params: 0\n",
      "_________________________________________________________________\n"
     ]
    }
   ],
   "source": [
    "model.summary()"
   ]
  },
  {
   "cell_type": "code",
   "execution_count": 5,
   "metadata": {},
   "outputs": [
    {
     "name": "stdout",
     "output_type": "stream",
     "text": [
      "# Fit model on training data\n",
      "Train on 24709 samples, validate on 4000 samples\n",
      "Epoch 1/50\n",
      "24709/24709 [==============================] - 21s 842us/step - loss: 2.0294 - accuracy: 0.2572 - val_loss: 1.7089 - val_accuracy: 0.3315\n",
      "Epoch 2/50\n",
      "24709/24709 [==============================] - 20s 829us/step - loss: 1.6499 - accuracy: 0.3587 - val_loss: 1.5749 - val_accuracy: 0.3995\n",
      "Epoch 3/50\n",
      "24709/24709 [==============================] - 21s 861us/step - loss: 1.5512 - accuracy: 0.4055 - val_loss: 1.5512 - val_accuracy: 0.3923\n",
      "Epoch 4/50\n",
      "24709/24709 [==============================] - 21s 855us/step - loss: 1.5000 - accuracy: 0.4290 - val_loss: 1.5158 - val_accuracy: 0.4275\n",
      "Epoch 5/50\n",
      "24709/24709 [==============================] - 21s 857us/step - loss: 1.4336 - accuracy: 0.4547 - val_loss: 1.4381 - val_accuracy: 0.4552\n",
      "Epoch 6/50\n",
      "24709/24709 [==============================] - 21s 835us/step - loss: 1.3853 - accuracy: 0.4755 - val_loss: 1.3707 - val_accuracy: 0.4762\n",
      "Epoch 7/50\n",
      "24709/24709 [==============================] - 20s 829us/step - loss: 1.3318 - accuracy: 0.4946 - val_loss: 1.3837 - val_accuracy: 0.4725\n",
      "Epoch 8/50\n",
      "24709/24709 [==============================] - 21s 832us/step - loss: 1.2952 - accuracy: 0.5101 - val_loss: 1.4362 - val_accuracy: 0.4613\n",
      "Epoch 9/50\n",
      "24709/24709 [==============================] - 21s 847us/step - loss: 1.2589 - accuracy: 0.5262 - val_loss: 1.5309 - val_accuracy: 0.4160\n",
      "Epoch 10/50\n",
      "24709/24709 [==============================] - 20s 829us/step - loss: 1.2300 - accuracy: 0.5365 - val_loss: 1.3186 - val_accuracy: 0.5077\n",
      "Epoch 11/50\n",
      "24709/24709 [==============================] - 21s 858us/step - loss: 1.1893 - accuracy: 0.5536 - val_loss: 1.3286 - val_accuracy: 0.5110\n",
      "Epoch 12/50\n",
      "24709/24709 [==============================] - 21s 844us/step - loss: 1.1494 - accuracy: 0.5670 - val_loss: 1.3615 - val_accuracy: 0.5033\n",
      "Epoch 13/50\n",
      "24709/24709 [==============================] - 21s 859us/step - loss: 1.1201 - accuracy: 0.5783 - val_loss: 1.3556 - val_accuracy: 0.5165\n",
      "Epoch 14/50\n",
      "24709/24709 [==============================] - 21s 839us/step - loss: 1.0832 - accuracy: 0.5936 - val_loss: 1.3783 - val_accuracy: 0.5192\n",
      "Epoch 15/50\n",
      "24709/24709 [==============================] - 21s 834us/step - loss: 1.0638 - accuracy: 0.6007 - val_loss: 1.4103 - val_accuracy: 0.5040\n",
      "Epoch 16/50\n",
      "24709/24709 [==============================] - 21s 854us/step - loss: 1.0251 - accuracy: 0.6180 - val_loss: 1.4433 - val_accuracy: 0.5157\n",
      "Epoch 17/50\n",
      "24709/24709 [==============================] - 21s 853us/step - loss: 1.0064 - accuracy: 0.6294 - val_loss: 1.4849 - val_accuracy: 0.5013\n",
      "Epoch 18/50\n",
      "24709/24709 [==============================] - 21s 847us/step - loss: 0.9719 - accuracy: 0.6399 - val_loss: 1.4636 - val_accuracy: 0.5052\n",
      "Epoch 19/50\n",
      "24709/24709 [==============================] - 21s 845us/step - loss: 0.9473 - accuracy: 0.6483 - val_loss: 1.4732 - val_accuracy: 0.5163\n",
      "Epoch 20/50\n",
      "24709/24709 [==============================] - 21s 836us/step - loss: 0.9255 - accuracy: 0.6526 - val_loss: 1.5979 - val_accuracy: 0.4908\n",
      "Epoch 21/50\n",
      "24709/24709 [==============================] - 21s 838us/step - loss: 0.9093 - accuracy: 0.6649 - val_loss: 1.5707 - val_accuracy: 0.5038\n",
      "Epoch 22/50\n",
      "24709/24709 [==============================] - 21s 832us/step - loss: 0.8810 - accuracy: 0.6751 - val_loss: 1.5872 - val_accuracy: 0.5115\n",
      "Epoch 23/50\n",
      "24709/24709 [==============================] - 21s 842us/step - loss: 0.8584 - accuracy: 0.6855 - val_loss: 1.6853 - val_accuracy: 0.5075\n",
      "Epoch 24/50\n",
      "24709/24709 [==============================] - 21s 838us/step - loss: 0.8360 - accuracy: 0.6900 - val_loss: 1.5987 - val_accuracy: 0.5123\n",
      "Epoch 25/50\n",
      "24709/24709 [==============================] - 20s 821us/step - loss: 0.8150 - accuracy: 0.7000 - val_loss: 1.7271 - val_accuracy: 0.4992\n",
      "Epoch 26/50\n",
      "24709/24709 [==============================] - 20s 829us/step - loss: 0.8040 - accuracy: 0.6992 - val_loss: 1.8477 - val_accuracy: 0.4930\n",
      "Epoch 27/50\n",
      "24709/24709 [==============================] - 21s 832us/step - loss: 0.7832 - accuracy: 0.7137 - val_loss: 1.7905 - val_accuracy: 0.4967\n",
      "Epoch 28/50\n",
      "24709/24709 [==============================] - 21s 833us/step - loss: 0.7579 - accuracy: 0.7218 - val_loss: 1.9096 - val_accuracy: 0.5055\n",
      "Epoch 29/50\n",
      "24709/24709 [==============================] - 21s 832us/step - loss: 0.7389 - accuracy: 0.7255 - val_loss: 1.8927 - val_accuracy: 0.5132\n",
      "Epoch 30/50\n",
      "24709/24709 [==============================] - 20s 826us/step - loss: 0.7393 - accuracy: 0.7258 - val_loss: 1.8906 - val_accuracy: 0.5020\n",
      "Epoch 31/50\n",
      "24709/24709 [==============================] - 21s 847us/step - loss: 0.7187 - accuracy: 0.7365 - val_loss: 2.0567 - val_accuracy: 0.4997\n",
      "Epoch 32/50\n",
      "24709/24709 [==============================] - 21s 844us/step - loss: 0.7058 - accuracy: 0.7417 - val_loss: 2.0471 - val_accuracy: 0.4983\n",
      "Epoch 33/50\n",
      "24709/24709 [==============================] - 21s 833us/step - loss: 0.7019 - accuracy: 0.7436 - val_loss: 2.2133 - val_accuracy: 0.4945\n",
      "Epoch 34/50\n",
      "24709/24709 [==============================] - 21s 860us/step - loss: 0.6905 - accuracy: 0.7454 - val_loss: 2.1046 - val_accuracy: 0.5050\n",
      "Epoch 35/50\n",
      "24709/24709 [==============================] - 21s 861us/step - loss: 0.6805 - accuracy: 0.7502 - val_loss: 2.1527 - val_accuracy: 0.4868\n",
      "Epoch 36/50\n",
      "24709/24709 [==============================] - 21s 850us/step - loss: 0.6435 - accuracy: 0.7610 - val_loss: 2.1714 - val_accuracy: 0.5020\n",
      "Epoch 37/50\n",
      "24709/24709 [==============================] - 21s 861us/step - loss: 0.6517 - accuracy: 0.7575 - val_loss: 2.2453 - val_accuracy: 0.4855\n",
      "Epoch 38/50\n",
      "24709/24709 [==============================] - 21s 861us/step - loss: 0.6627 - accuracy: 0.7561 - val_loss: 2.3139 - val_accuracy: 0.5017\n",
      "Epoch 39/50\n",
      "24709/24709 [==============================] - 21s 830us/step - loss: 0.6130 - accuracy: 0.7754 - val_loss: 2.3377 - val_accuracy: 0.4990\n",
      "Epoch 40/50\n",
      "24709/24709 [==============================] - 21s 830us/step - loss: 0.6014 - accuracy: 0.7788 - val_loss: 2.4931 - val_accuracy: 0.4995\n",
      "Epoch 41/50\n",
      "24709/24709 [==============================] - 21s 852us/step - loss: 0.6035 - accuracy: 0.7793 - val_loss: 2.3213 - val_accuracy: 0.4830\n",
      "Epoch 42/50\n",
      "24709/24709 [==============================] - 21s 865us/step - loss: 0.5947 - accuracy: 0.7820 - val_loss: 2.4372 - val_accuracy: 0.4915\n",
      "Epoch 43/50\n",
      "24709/24709 [==============================] - 21s 856us/step - loss: 0.5990 - accuracy: 0.7804 - val_loss: 2.5070 - val_accuracy: 0.4900\n",
      "Epoch 44/50\n",
      " 4160/24709 [====>.........................] - ETA: 16s - loss: 0.5832 - accuracy: 0.7909"
     ]
    },
    {
     "ename": "KeyboardInterrupt",
     "evalue": "",
     "output_type": "error",
     "traceback": [
      "\u001b[1;31m---------------------------------------------------------------------------\u001b[0m",
      "\u001b[1;31mKeyboardInterrupt\u001b[0m                         Traceback (most recent call last)",
      "\u001b[1;32m<ipython-input-5-68833ce9a7ff>\u001b[0m in \u001b[0;36m<module>\u001b[1;34m\u001b[0m\n\u001b[0;32m      6\u001b[0m                     \u001b[1;31m# monitoring validation loss and metrics\u001b[0m\u001b[1;33m\u001b[0m\u001b[1;33m\u001b[0m\u001b[1;33m\u001b[0m\u001b[0m\n\u001b[0;32m      7\u001b[0m                     \u001b[1;31m# at the end of each epoch\u001b[0m\u001b[1;33m\u001b[0m\u001b[1;33m\u001b[0m\u001b[1;33m\u001b[0m\u001b[0m\n\u001b[1;32m----> 8\u001b[1;33m                     \u001b[0mvalidation_data\u001b[0m\u001b[1;33m=\u001b[0m\u001b[1;33m(\u001b[0m\u001b[0mX_val\u001b[0m\u001b[1;33m,\u001b[0m \u001b[0my_val\u001b[0m\u001b[1;33m)\u001b[0m\u001b[1;33m\u001b[0m\u001b[1;33m\u001b[0m\u001b[0m\n\u001b[0m\u001b[0;32m      9\u001b[0m                    )\n\u001b[0;32m     10\u001b[0m \u001b[1;33m\u001b[0m\u001b[0m\n",
      "\u001b[1;32m~\\.conda\\envs\\dl\\lib\\site-packages\\keras\\engine\\training.py\u001b[0m in \u001b[0;36mfit\u001b[1;34m(self, x, y, batch_size, epochs, verbose, callbacks, validation_split, validation_data, shuffle, class_weight, sample_weight, initial_epoch, steps_per_epoch, validation_steps, validation_freq, max_queue_size, workers, use_multiprocessing, **kwargs)\u001b[0m\n\u001b[0;32m   1237\u001b[0m                                         \u001b[0msteps_per_epoch\u001b[0m\u001b[1;33m=\u001b[0m\u001b[0msteps_per_epoch\u001b[0m\u001b[1;33m,\u001b[0m\u001b[1;33m\u001b[0m\u001b[1;33m\u001b[0m\u001b[0m\n\u001b[0;32m   1238\u001b[0m                                         \u001b[0mvalidation_steps\u001b[0m\u001b[1;33m=\u001b[0m\u001b[0mvalidation_steps\u001b[0m\u001b[1;33m,\u001b[0m\u001b[1;33m\u001b[0m\u001b[1;33m\u001b[0m\u001b[0m\n\u001b[1;32m-> 1239\u001b[1;33m                                         validation_freq=validation_freq)\n\u001b[0m\u001b[0;32m   1240\u001b[0m \u001b[1;33m\u001b[0m\u001b[0m\n\u001b[0;32m   1241\u001b[0m     def evaluate(self,\n",
      "\u001b[1;32m~\\.conda\\envs\\dl\\lib\\site-packages\\keras\\engine\\training_arrays.py\u001b[0m in \u001b[0;36mfit_loop\u001b[1;34m(model, fit_function, fit_inputs, out_labels, batch_size, epochs, verbose, callbacks, val_function, val_inputs, shuffle, initial_epoch, steps_per_epoch, validation_steps, validation_freq)\u001b[0m\n\u001b[0;32m    194\u001b[0m                     \u001b[0mins_batch\u001b[0m\u001b[1;33m[\u001b[0m\u001b[0mi\u001b[0m\u001b[1;33m]\u001b[0m \u001b[1;33m=\u001b[0m \u001b[0mins_batch\u001b[0m\u001b[1;33m[\u001b[0m\u001b[0mi\u001b[0m\u001b[1;33m]\u001b[0m\u001b[1;33m.\u001b[0m\u001b[0mtoarray\u001b[0m\u001b[1;33m(\u001b[0m\u001b[1;33m)\u001b[0m\u001b[1;33m\u001b[0m\u001b[1;33m\u001b[0m\u001b[0m\n\u001b[0;32m    195\u001b[0m \u001b[1;33m\u001b[0m\u001b[0m\n\u001b[1;32m--> 196\u001b[1;33m                 \u001b[0mouts\u001b[0m \u001b[1;33m=\u001b[0m \u001b[0mfit_function\u001b[0m\u001b[1;33m(\u001b[0m\u001b[0mins_batch\u001b[0m\u001b[1;33m)\u001b[0m\u001b[1;33m\u001b[0m\u001b[1;33m\u001b[0m\u001b[0m\n\u001b[0m\u001b[0;32m    197\u001b[0m                 \u001b[0mouts\u001b[0m \u001b[1;33m=\u001b[0m \u001b[0mto_list\u001b[0m\u001b[1;33m(\u001b[0m\u001b[0mouts\u001b[0m\u001b[1;33m)\u001b[0m\u001b[1;33m\u001b[0m\u001b[1;33m\u001b[0m\u001b[0m\n\u001b[0;32m    198\u001b[0m                 \u001b[1;32mfor\u001b[0m \u001b[0ml\u001b[0m\u001b[1;33m,\u001b[0m \u001b[0mo\u001b[0m \u001b[1;32min\u001b[0m \u001b[0mzip\u001b[0m\u001b[1;33m(\u001b[0m\u001b[0mout_labels\u001b[0m\u001b[1;33m,\u001b[0m \u001b[0mouts\u001b[0m\u001b[1;33m)\u001b[0m\u001b[1;33m:\u001b[0m\u001b[1;33m\u001b[0m\u001b[1;33m\u001b[0m\u001b[0m\n",
      "\u001b[1;32m~\\.conda\\envs\\dl\\lib\\site-packages\\tensorflow_core\\python\\keras\\backend.py\u001b[0m in \u001b[0;36m__call__\u001b[1;34m(self, inputs)\u001b[0m\n\u001b[0;32m   3725\u001b[0m         \u001b[0mvalue\u001b[0m \u001b[1;33m=\u001b[0m \u001b[0mmath_ops\u001b[0m\u001b[1;33m.\u001b[0m\u001b[0mcast\u001b[0m\u001b[1;33m(\u001b[0m\u001b[0mvalue\u001b[0m\u001b[1;33m,\u001b[0m \u001b[0mtensor\u001b[0m\u001b[1;33m.\u001b[0m\u001b[0mdtype\u001b[0m\u001b[1;33m)\u001b[0m\u001b[1;33m\u001b[0m\u001b[1;33m\u001b[0m\u001b[0m\n\u001b[0;32m   3726\u001b[0m       \u001b[0mconverted_inputs\u001b[0m\u001b[1;33m.\u001b[0m\u001b[0mappend\u001b[0m\u001b[1;33m(\u001b[0m\u001b[0mvalue\u001b[0m\u001b[1;33m)\u001b[0m\u001b[1;33m\u001b[0m\u001b[1;33m\u001b[0m\u001b[0m\n\u001b[1;32m-> 3727\u001b[1;33m     \u001b[0moutputs\u001b[0m \u001b[1;33m=\u001b[0m \u001b[0mself\u001b[0m\u001b[1;33m.\u001b[0m\u001b[0m_graph_fn\u001b[0m\u001b[1;33m(\u001b[0m\u001b[1;33m*\u001b[0m\u001b[0mconverted_inputs\u001b[0m\u001b[1;33m)\u001b[0m\u001b[1;33m\u001b[0m\u001b[1;33m\u001b[0m\u001b[0m\n\u001b[0m\u001b[0;32m   3728\u001b[0m \u001b[1;33m\u001b[0m\u001b[0m\n\u001b[0;32m   3729\u001b[0m     \u001b[1;31m# EagerTensor.numpy() will often make a copy to ensure memory safety.\u001b[0m\u001b[1;33m\u001b[0m\u001b[1;33m\u001b[0m\u001b[1;33m\u001b[0m\u001b[0m\n",
      "\u001b[1;32m~\\.conda\\envs\\dl\\lib\\site-packages\\tensorflow_core\\python\\eager\\function.py\u001b[0m in \u001b[0;36m__call__\u001b[1;34m(self, *args, **kwargs)\u001b[0m\n\u001b[0;32m   1549\u001b[0m       \u001b[0mTypeError\u001b[0m\u001b[1;33m:\u001b[0m \u001b[0mFor\u001b[0m \u001b[0minvalid\u001b[0m \u001b[0mpositional\u001b[0m\u001b[1;33m/\u001b[0m\u001b[0mkeyword\u001b[0m \u001b[0margument\u001b[0m \u001b[0mcombinations\u001b[0m\u001b[1;33m.\u001b[0m\u001b[1;33m\u001b[0m\u001b[1;33m\u001b[0m\u001b[0m\n\u001b[0;32m   1550\u001b[0m     \"\"\"\n\u001b[1;32m-> 1551\u001b[1;33m     \u001b[1;32mreturn\u001b[0m \u001b[0mself\u001b[0m\u001b[1;33m.\u001b[0m\u001b[0m_call_impl\u001b[0m\u001b[1;33m(\u001b[0m\u001b[0margs\u001b[0m\u001b[1;33m,\u001b[0m \u001b[0mkwargs\u001b[0m\u001b[1;33m)\u001b[0m\u001b[1;33m\u001b[0m\u001b[1;33m\u001b[0m\u001b[0m\n\u001b[0m\u001b[0;32m   1552\u001b[0m \u001b[1;33m\u001b[0m\u001b[0m\n\u001b[0;32m   1553\u001b[0m   \u001b[1;32mdef\u001b[0m \u001b[0m_call_impl\u001b[0m\u001b[1;33m(\u001b[0m\u001b[0mself\u001b[0m\u001b[1;33m,\u001b[0m \u001b[0margs\u001b[0m\u001b[1;33m,\u001b[0m \u001b[0mkwargs\u001b[0m\u001b[1;33m,\u001b[0m \u001b[0mcancellation_manager\u001b[0m\u001b[1;33m=\u001b[0m\u001b[1;32mNone\u001b[0m\u001b[1;33m)\u001b[0m\u001b[1;33m:\u001b[0m\u001b[1;33m\u001b[0m\u001b[1;33m\u001b[0m\u001b[0m\n",
      "\u001b[1;32m~\\.conda\\envs\\dl\\lib\\site-packages\\tensorflow_core\\python\\eager\\function.py\u001b[0m in \u001b[0;36m_call_impl\u001b[1;34m(self, args, kwargs, cancellation_manager)\u001b[0m\n\u001b[0;32m   1589\u001b[0m       raise TypeError(\"Keyword arguments {} unknown. Expected {}.\".format(\n\u001b[0;32m   1590\u001b[0m           list(kwargs.keys()), list(self._arg_keywords)))\n\u001b[1;32m-> 1591\u001b[1;33m     \u001b[1;32mreturn\u001b[0m \u001b[0mself\u001b[0m\u001b[1;33m.\u001b[0m\u001b[0m_call_flat\u001b[0m\u001b[1;33m(\u001b[0m\u001b[0margs\u001b[0m\u001b[1;33m,\u001b[0m \u001b[0mself\u001b[0m\u001b[1;33m.\u001b[0m\u001b[0mcaptured_inputs\u001b[0m\u001b[1;33m,\u001b[0m \u001b[0mcancellation_manager\u001b[0m\u001b[1;33m)\u001b[0m\u001b[1;33m\u001b[0m\u001b[1;33m\u001b[0m\u001b[0m\n\u001b[0m\u001b[0;32m   1592\u001b[0m \u001b[1;33m\u001b[0m\u001b[0m\n\u001b[0;32m   1593\u001b[0m   \u001b[1;32mdef\u001b[0m \u001b[0m_filtered_call\u001b[0m\u001b[1;33m(\u001b[0m\u001b[0mself\u001b[0m\u001b[1;33m,\u001b[0m \u001b[0margs\u001b[0m\u001b[1;33m,\u001b[0m \u001b[0mkwargs\u001b[0m\u001b[1;33m)\u001b[0m\u001b[1;33m:\u001b[0m\u001b[1;33m\u001b[0m\u001b[1;33m\u001b[0m\u001b[0m\n",
      "\u001b[1;32m~\\.conda\\envs\\dl\\lib\\site-packages\\tensorflow_core\\python\\eager\\function.py\u001b[0m in \u001b[0;36m_call_flat\u001b[1;34m(self, args, captured_inputs, cancellation_manager)\u001b[0m\n\u001b[0;32m   1690\u001b[0m       \u001b[1;31m# No tape is watching; skip to running the function.\u001b[0m\u001b[1;33m\u001b[0m\u001b[1;33m\u001b[0m\u001b[1;33m\u001b[0m\u001b[0m\n\u001b[0;32m   1691\u001b[0m       return self._build_call_outputs(self._inference_function.call(\n\u001b[1;32m-> 1692\u001b[1;33m           ctx, args, cancellation_manager=cancellation_manager))\n\u001b[0m\u001b[0;32m   1693\u001b[0m     forward_backward = self._select_forward_and_backward_functions(\n\u001b[0;32m   1694\u001b[0m         \u001b[0margs\u001b[0m\u001b[1;33m,\u001b[0m\u001b[1;33m\u001b[0m\u001b[1;33m\u001b[0m\u001b[0m\n",
      "\u001b[1;32m~\\.conda\\envs\\dl\\lib\\site-packages\\tensorflow_core\\python\\eager\\function.py\u001b[0m in \u001b[0;36mcall\u001b[1;34m(self, ctx, args, cancellation_manager)\u001b[0m\n\u001b[0;32m    543\u001b[0m               \u001b[0minputs\u001b[0m\u001b[1;33m=\u001b[0m\u001b[0margs\u001b[0m\u001b[1;33m,\u001b[0m\u001b[1;33m\u001b[0m\u001b[1;33m\u001b[0m\u001b[0m\n\u001b[0;32m    544\u001b[0m               \u001b[0mattrs\u001b[0m\u001b[1;33m=\u001b[0m\u001b[1;33m(\u001b[0m\u001b[1;34m\"executor_type\"\u001b[0m\u001b[1;33m,\u001b[0m \u001b[0mexecutor_type\u001b[0m\u001b[1;33m,\u001b[0m \u001b[1;34m\"config_proto\"\u001b[0m\u001b[1;33m,\u001b[0m \u001b[0mconfig\u001b[0m\u001b[1;33m)\u001b[0m\u001b[1;33m,\u001b[0m\u001b[1;33m\u001b[0m\u001b[1;33m\u001b[0m\u001b[0m\n\u001b[1;32m--> 545\u001b[1;33m               ctx=ctx)\n\u001b[0m\u001b[0;32m    546\u001b[0m         \u001b[1;32melse\u001b[0m\u001b[1;33m:\u001b[0m\u001b[1;33m\u001b[0m\u001b[1;33m\u001b[0m\u001b[0m\n\u001b[0;32m    547\u001b[0m           outputs = execute.execute_with_cancellation(\n",
      "\u001b[1;32m~\\.conda\\envs\\dl\\lib\\site-packages\\tensorflow_core\\python\\eager\\execute.py\u001b[0m in \u001b[0;36mquick_execute\u001b[1;34m(op_name, num_outputs, inputs, attrs, ctx, name)\u001b[0m\n\u001b[0;32m     59\u001b[0m     tensors = pywrap_tensorflow.TFE_Py_Execute(ctx._handle, device_name,\n\u001b[0;32m     60\u001b[0m                                                \u001b[0mop_name\u001b[0m\u001b[1;33m,\u001b[0m \u001b[0minputs\u001b[0m\u001b[1;33m,\u001b[0m \u001b[0mattrs\u001b[0m\u001b[1;33m,\u001b[0m\u001b[1;33m\u001b[0m\u001b[1;33m\u001b[0m\u001b[0m\n\u001b[1;32m---> 61\u001b[1;33m                                                num_outputs)\n\u001b[0m\u001b[0;32m     62\u001b[0m   \u001b[1;32mexcept\u001b[0m \u001b[0mcore\u001b[0m\u001b[1;33m.\u001b[0m\u001b[0m_NotOkStatusException\u001b[0m \u001b[1;32mas\u001b[0m \u001b[0me\u001b[0m\u001b[1;33m:\u001b[0m\u001b[1;33m\u001b[0m\u001b[1;33m\u001b[0m\u001b[0m\n\u001b[0;32m     63\u001b[0m     \u001b[1;32mif\u001b[0m \u001b[0mname\u001b[0m \u001b[1;32mis\u001b[0m \u001b[1;32mnot\u001b[0m \u001b[1;32mNone\u001b[0m\u001b[1;33m:\u001b[0m\u001b[1;33m\u001b[0m\u001b[1;33m\u001b[0m\u001b[0m\n",
      "\u001b[1;31mKeyboardInterrupt\u001b[0m: "
     ]
    }
   ],
   "source": [
    "print('# Fit model on training data')\n",
    "history = model.fit(X_train, y_train,\n",
    "                    batch_size=64,\n",
    "                    epochs=50,\n",
    "                    # We pass some validation for\n",
    "                    # monitoring validation loss and metrics\n",
    "                    # at the end of each epoch\n",
    "                    validation_data=(X_val, y_val)\n",
    "                   )\n",
    "\n",
    "print('\\nhistory dict:', history.history)\n"
   ]
  },
  {
   "cell_type": "code",
   "execution_count": null,
   "metadata": {},
   "outputs": [],
   "source": []
  }
 ],
 "metadata": {
  "kernelspec": {
   "display_name": "Python 3",
   "language": "python",
   "name": "python3"
  },
  "language_info": {
   "codemirror_mode": {
    "name": "ipython",
    "version": 3
   },
   "file_extension": ".py",
   "mimetype": "text/x-python",
   "name": "python",
   "nbconvert_exporter": "python",
   "pygments_lexer": "ipython3",
   "version": "3.7.6"
  }
 },
 "nbformat": 4,
 "nbformat_minor": 4
}
